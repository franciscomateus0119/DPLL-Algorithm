{
 "cells": [
  {
   "cell_type": "code",
   "execution_count": 1,
   "id": "33f0c972-7ec8-4508-aa6d-a548e1f90529",
   "metadata": {
    "tags": []
   },
   "outputs": [],
   "source": [
    "import numpy as np\n",
    "from functions import read_given_file\n",
    "from DPLL import dpll"
   ]
  },
  {
   "cell_type": "code",
   "execution_count": 2,
   "id": "3b6d38fe-ef9c-41ca-91c9-1c4a75f512cf",
   "metadata": {
    "tags": []
   },
   "outputs": [
    {
     "name": "stdout",
     "output_type": "stream",
     "text": [
      "['p', 'cnf', '3', '3']\n"
     ]
    },
    {
     "data": {
      "text/plain": [
       "True"
      ]
     },
     "execution_count": 2,
     "metadata": {},
     "output_type": "execute_result"
    }
   ],
   "source": [
    "file_path = \"./examples/example.txt\"\n",
    "clauses, clause_set_info = read_given_file(file_path)\n",
    "print(clause_set_info)\n",
    "dpll(clauses)"
   ]
  }
 ],
 "metadata": {
  "kernelspec": {
   "display_name": "Python 3 (ipykernel)",
   "language": "python",
   "name": "python3"
  },
  "language_info": {
   "codemirror_mode": {
    "name": "ipython",
    "version": 3
   },
   "file_extension": ".py",
   "mimetype": "text/x-python",
   "name": "python",
   "nbconvert_exporter": "python",
   "pygments_lexer": "ipython3",
   "version": "3.10.9"
  }
 },
 "nbformat": 4,
 "nbformat_minor": 5
}
